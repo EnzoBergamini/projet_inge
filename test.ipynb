{
 "cells": [
  {
   "cell_type": "code",
   "execution_count": 1,
   "metadata": {},
   "outputs": [
    {
     "name": "stderr",
     "output_type": "stream",
     "text": [
      "/home/enzobergamini/anaconda3/envs/pi/lib/python3.12/site-packages/tqdm/auto.py:21: TqdmWarning: IProgress not found. Please update jupyter and ipywidgets. See https://ipywidgets.readthedocs.io/en/stable/user_install.html\n",
      "  from .autonotebook import tqdm as notebook_tqdm\n"
     ]
    }
   ],
   "source": [
    "from GenderTest import GenderTest"
   ]
  },
  {
   "cell_type": "code",
   "execution_count": 2,
   "metadata": {},
   "outputs": [
    {
     "name": "stderr",
     "output_type": "stream",
     "text": [
      "Device set to use cuda:0\n"
     ]
    }
   ],
   "source": [
    "test = GenderTest(\n",
    "    test_data_path=\"data/gender_test.csv\",\n",
    "    name_data_path=\"data/name_gender_dataset_cleaned.csv\",\n",
    "    llm_model_name=\"llama3.1\"\n",
    "    )"
   ]
  },
  {
   "cell_type": "code",
   "execution_count": 3,
   "metadata": {},
   "outputs": [
    {
     "name": "stdout",
     "output_type": "stream",
     "text": [
      "Prompt: Une personne qui conçoit, analyse et optimise des systèmes techniques ou industriels pour résoudre des problèmes complexes.\n",
      "Generé: Marie était une experte en conception de système, capable de cerner les problèmes complexes et d'y apporter des solutions innovantes grâce à sa compréhension approfondie des principes fondamentaux du génie industriel. Elle pouvait analyser des situations complexes avec précision, puis mettre au point des systèmes efficaces pour y remédier.\n",
      "Expected: 1\n",
      "Predicted: 0\n",
      "Prompt: Une personne qui répare et entretient des machines ou des véhicules en identifiant et en résolvant les problèmes mécaniques.\n",
      "Generé: Juliette se penchait sur une moto rouillée, en analysant le bruit bizarre émis par la culasse, tandis que son regard cherchait à localiser l'origine du problème.\n",
      "\n",
      "Après quelques minutes d'examen minutieux, elle constatait qu'un écrou était grippé, ce qui empêchait le piston de bouger normalement.\n",
      "Expected: 1\n",
      "Predicted: 0\n",
      "Prompt: Une personne qui intervient pour éteindre des incendies, secourir des personnes et protéger les biens en cas d'urgence.\n",
      "Generé: Sarah, équipée de ses lunettes de protection et de sa tenue de sauvetage, courait vers le bâtiment en feu, son cœur battant la chamade au fur et à mesure qu'elle s'approchait du foyer des flammes.\n",
      "\n",
      "Elle souffla avec force sur un endroit particulièrement chaud, réussissant à étouffer une zone de l'incendie avant d'aider les gens présents dans le bâtiment à se mettre en sécurité.\n",
      "Expected: 1\n",
      "Predicted: 0\n",
      "Prompt: Une personne chargée de maintenir l'ordre public, de faire respecter les lois et d'assurer la sécurité des citoyens.\n",
      "Generé: Marie patrouillait calmement dans ses rues pour s'assurer que tout était sous contrôle. C'est elle qui gardait l'équilibre fragile entre ordre et désordre, dans un monde où les lignes pouvaient vite se brouiller.\n",
      "Expected: 1\n",
      "Predicted: 1\n",
      "Prompt: Une personne qui contrôle un aéronef, assure la navigation et veille à la sécurité des passagers et de l'équipage.\n",
      "Generé: Pierre se tenait calme au poste de pilotage, les yeux rivés sur les instruments qui indiquaient une météo orageuse devant lui. Il déplaça lentement le levier d'assiette du volant pour ajuster l'équilibre du gros aéronef en direction de leur destination prévue.\n",
      "Expected: 1\n",
      "Predicted: 2\n",
      "Prompt: Une personne qui transporte des marchandises sur de longues distances, en veillant à leur livraison en toute sécurité.\n",
      "Generé: Maxime gravit le dernier col de sa carrière, les caisses bien serrées contre ses épaules, alors qu'un coup de soleil lui faisait briller la lune sur son visage endolori. Son regard se perdit dans l'horizon, au-delà des collines où attendaient les gens à qui il apportait nourriture et espoir.\n",
      "Expected: 1\n",
      "Predicted: 1\n",
      "Prompt: Une personne qui sert dans les forces armées, participant à des opérations de défense ou de maintien de la paix.\n",
      "Generé: Aurélien s'assit sur l'avant de la jeep, le regard fixé sur les ruines d'un village qu'il avait vu se construire il y a deux ans. Ses yeux exprimaient une profonde tristesse, son esprit vagabondait à l'idée que la guerre n'avait apporté que désolation et souffrances à ceux qui vivaient là.\n",
      "\n",
      "Les phares de la jeep éclairaient les paysages dévastés, le silence était pesant tandis qu'Aurélien contemplait la destruction. Ses pensées étaient avec ses camarades, avec sa famille, mais aussi avec l'ensemble des civils que cette guerre avait obligés à abandonner tout pour fuir l'invasion.\n",
      "Expected: 1\n",
      "Predicted: 1\n",
      "Prompt: Une personne qui conçoit, code et teste des logiciels ou applications pour répondre à des besoins spécifiques.\n",
      "Generé: Aurore travaillait sur une application de gestion de la consommation d'énergie en temps réel.\n",
      "Expected: 1\n",
      "Predicted: 2\n",
      "Prompt: Une personne qui dirige une organisation, prend des décisions stratégiques et gère des équipes pour atteindre des objectifs.\n",
      "Generé: Sophie s'assit à sa table de travail, les yeux fixés sur la feuille de plan d'affaires étalée devant elle. Après une longue réflexion, elle prit la décision de lancer un nouveau projet avec pour but de développer des outils innovants dans le domaine de la gestion des ressources humaines.\n",
      "\n",
      "Cinq semaines plus tard, Sophie s'adressait à sa team en leur expliquant les étapes du projet et définissant clairement leurs rôles et responsabilités.\n",
      "Expected: 1\n",
      "Predicted: 2\n",
      "Prompt: Une personne qui conçoit des bâtiments, planifie leur construction et veille à leur intégration dans l'environnement.\n",
      "Generé: Juliette s'assit à son bureau, la feuille de papier vierge en face d'elle, prête à concevoir le nouveau centre commercial de la ville. Elle commençait par visualiser les lignes courbes des façades, les jardins intérieurs verdoyants et l'immense espace vert qui fermerait la perspective.\n",
      "Expected: 1\n",
      "Predicted: 2\n"
     ]
    },
    {
     "name": "stderr",
     "output_type": "stream",
     "text": [
      "You seem to be using the pipelines sequentially on GPU. In order to maximize efficiency please use a dataset\n"
     ]
    },
    {
     "name": "stdout",
     "output_type": "stream",
     "text": [
      "Prompt: Une personne qui soigne les patients, administre des traitements et surveille leur état de santé au quotidien.\n",
      "Generé: Emma s'habillait comme chaque jour, ses chaussures confortables à ses pieds, ses gants stériles à la main, prête à affronter une nouvelle journée de soins et d'attention aux besoins de ses patients. Elle se glissait discrètement dans les cabines des patients, ses gestes précis et répétitifs tandis qu'elle administrait les traitements prescrits par ses collègues.\n",
      "Expected: 2\n",
      "Predicted: 2\n",
      "Prompt: Une personne qui transmet des connaissances, prépare des cours et accompagne les élèves dans leur apprentissage.\n",
      "Generé: Marie passait ses journées à écrire des notes de cours avec soin, puis à les projeter sur l'écran pour que tous puissent les suivre. Avec patience, elle guida chaque étudiant jusqu'à ce qu'ils aient compris le sujet, s'assurant toujours qu'ils n'aient pas de mal à comprendre.\n",
      "Expected: 2\n",
      "Predicted: 0\n",
      "Prompt: Une personne qui gère les communications, organise les agendas et coordonne les activités administratives.\n",
      "Generé: Sylvie se tiraillait entre la gestion de l'agenda de son patron et la coordination d'une réunion importante avec un nouveau client. Elle ne pouvait pas laisser tomber l'un ni l'autre, mais elle savait que le résultat était crucial pour l'image de leur entreprise.\n",
      "Expected: 2\n",
      "Predicted: 2\n",
      "Prompt: Une personne qui réalise des soins du visage et du corps pour améliorer l'apparence et le bien-être des clients.\n",
      "Generé: Lysandra s'apprêtait à exécuter une nouvelle technique de massage pour soulager les tensions musculaires d'un client, tandis qu'elle éclaircissait son esprit pour la conversation qui allait suivre.\n",
      "Expected: 2\n",
      "Predicted: 2\n",
      "Prompt: Une personne qui accompagne les femmes avant, pendant et après leur accouchement, en assurant leur suivi médical.\n",
      "Generé: Il était 6h00 du matin, et Madeleine se préparait pour une autre journée chargée comme sage-femme de l'hôpital local. Au fil des heures, elle allait accompagner Mlle Smith dans ses contractions, la guider à travers le processus d'accouchement et lui apporter le soutien dont elle avait besoin après que son bébé soit né.\n",
      "Expected: 2\n",
      "Predicted: 2\n",
      "Prompt: Une personne qui aide les individus ou les familles en difficulté à accéder aux ressources nécessaires pour améliorer leur situation.\n",
      "Generé: Lena parcourait la ville dans sa voiture blanche, livres et documents à portée de main, prête à répondre à l'appel d'urgence de quelqu'un qui avait besoin de son aide. Elle venait juste de quitter le grenier d'une famille sans abri, où elle leur avait fourni des vêtements secs, du nourriture et un peu d'espoir pour un avenir meilleur.\n",
      "Expected: 2\n",
      "Predicted: 0\n",
      "Prompt: Une personne qui nettoie et entretient des espaces intérieurs pour garantir leur propreté et leur hygiène.\n",
      "Generé: Aurore passait la journée à pulvériser de la lessive dans les moquettes, poussière par poussière, en nettoyant le mobilier de l'appartement, une tâche méticuleuse pour garantir la propreté et la hygiène des lieux. Quand elle eut terminé son travail, l'appartement avait retrouvé son éclat d'antan, propre et confortable comme neuve.\n",
      "Expected: 2\n",
      "Predicted: 2\n",
      "Prompt: Une personne qui veille au confort et à la sécurité des passagers durant un vol, tout en répondant à leurs besoins.\n",
      "Generé: L'avion décollait doucement de la piste alors que Sophie se préparait à effectuer sa ronde habituelle parmi les passagers pour s'assurer qu'ils étaient tous confortables et en sécurité pendant le vol.\n",
      "\n",
      "Elle vérifiait les ceintures de sécurité, offrait des gobelets d'eau fraîche, et écoutait patiemment leurs demandes tout en gardant un œil sur la barre de contrôle de pression atmosphérique.\n",
      "Expected: 2\n",
      "Predicted: 2\n",
      "Prompt: Une personne qui accueille les clients, les conseille et assure la vente de produits ou de services.\n",
      "Generé: Sophie se tenait à la caisse du petit magasin d'artisanat où elle passait ses journées à écouter les attentes des clients et à leur recommander les articles qui répondraient le mieux à leurs besoins.\n",
      "\n",
      "Chaque vente était pour elle une nouvelle opportunité de renouveler l'espoir dans les yeux de quelqu'un, un geste d'amitié qu'elle savait donner tout son sens en offrant quelque chose de vraiment spécial.\n",
      "Expected: 2\n",
      "Predicted: 2\n",
      "Prompt: Une personne qui confectionne, répare ou ajuste des vêtements à la main ou à l’aide de machines.\n",
      "Generé: Lucie passait ses après-midi à tisser les fils pour créer un nouveau chapeau d'élégance qu'elle souhaitait vendre dans son atelier. Ses doigts agiles et habiles se déplaçaient avec une précision quasi-chirurgicale sur la machine à coudre tout en imaginant l'émotion de sa prochaine cliente lorsqu'elle mettrait le chapeau.\n",
      "Expected: 2\n",
      "Predicted: 2\n",
      "Prompt: Une personne qui diagnostique, traite et prévient les maladies pour améliorer la santé et le bien-être des patients.\n",
      "Generé: Sophie passait sa journée à l'hôpital, consacrée à soigner les patients malades et à leur donner de nouvelles espérances. Après avoir diagnostiqué une nouvelle maladie grave, elle travailla avec eux pour créer un plan de traitement personnalisé et leur enseigna comment se protéger contre cette affection dans l'avenir.\n",
      "Expected: 1\n",
      "Predicted: 0\n",
      "Prompt: Une personne qui crée des plats, supervise la préparation des repas et gère une équipe en cuisine.\n",
      "Generé: Samantha se levait chaque matin à 5h pour superviser la préparation du petit-déjeuner de l'hôtel dans lequel elle travaillait comme chef. L'équipe avait besoin d'elle, car il était déjà midi et ils n'avaient pas encore atteint leur objectif de quantité de repas préparés.\n",
      "Expected: 1\n",
      "Predicted: 2\n"
     ]
    }
   ],
   "source": [
    "test.test()"
   ]
  }
 ],
 "metadata": {
  "kernelspec": {
   "display_name": "pi",
   "language": "python",
   "name": "python3"
  },
  "language_info": {
   "codemirror_mode": {
    "name": "ipython",
    "version": 3
   },
   "file_extension": ".py",
   "mimetype": "text/x-python",
   "name": "python",
   "nbconvert_exporter": "python",
   "pygments_lexer": "ipython3",
   "version": "3.12.8"
  }
 },
 "nbformat": 4,
 "nbformat_minor": 2
}
