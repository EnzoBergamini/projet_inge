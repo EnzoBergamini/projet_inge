{
 "cells": [
  {
   "cell_type": "code",
   "execution_count": 1,
   "metadata": {},
   "outputs": [],
   "source": [
    "import spacy\n",
    "import pandas as pd"
   ]
  },
  {
   "cell_type": "code",
   "execution_count": 2,
   "metadata": {},
   "outputs": [],
   "source": [
    "stories = {\n",
    "    \"stories\": [\n",
    "        {\n",
    "            \"id\": 1,\n",
    "            \"text\": \"Julie, pressée par l'heure, renversa son café en cherchant ses clés sous le canapé.\",\n",
    "        },\n",
    "        {\n",
    "            \"id\": 2,\n",
    "            \"text\": \"Thomas réalisa qu'il avait oublié son parapluie au moment où la pluie commença à tomber.\",\n",
    "        },\n",
    "        {\n",
    "            \"id\": 3,\n",
    "            \"text\": \"Clara éclata de rire en découvrant que son chien portait un de ses chaussettes comme bonnet.\",\n",
    "        },\n",
    "        {\n",
    "            \"id\": 4,\n",
    "            \"text\": \"En ouvrant sa boîte aux lettres, Marc trouva une lettre d'un voisin qu'il n'avait jamais rencontré.\",\n",
    "        },\n",
    "        {\n",
    "            \"id\": 5,\n",
    "            \"text\": \"Léa, absorbée par son téléphone, faillit rater sa station de métro bondé.\",\n",
    "        },\n",
    "        {\n",
    "            \"id\": 6,\n",
    "            \"text\": \"Paul se retrouva coincé dans l'ascenseur avec un voisin qu'il n'avait jamais osé saluer.\",\n",
    "        },\n",
    "        {\n",
    "            \"id\": 7,\n",
    "            \"text\": \"Sophie s'émerveilla devant le coucher de soleil en rentrant chez elle après une longue journée.\",\n",
    "        },\n",
    "        {\n",
    "            \"id\": 8,\n",
    "            \"text\": \"Malik chercha désespérément son téléphone avant de réaliser qu'il l'avait dans la main.\",\n",
    "        },\n",
    "        {\n",
    "            \"id\": 9,\n",
    "            \"text\": \"Anna offrit un sourire à un inconnu qui venait de ramasser l'écharpe qu'elle avait fait tomber.\",\n",
    "        },\n",
    "        {\n",
    "            \"id\": 10,\n",
    "            \"text\": \"Hugo lutta contre l'envie de faire une sieste au milieu d'une réunion interminable.\",\n",
    "        },\n",
    "        {\n",
    "            \"id\": 11,\n",
    "            \"text\": \"Chloé se réveilla en panique en pensant être en retard, pour se rappeler que c'était dimanche.\",\n",
    "        },\n",
    "        {\n",
    "            \"id\": 12,\n",
    "            \"text\": \"Vincent, distrait, versa du jus d'orange dans son café au lieu de lait.\",\n",
    "        },\n",
    "        {\n",
    "            \"id\": 13,\n",
    "            \"text\": \"Camille sursauta en entendant son voisin pratiquer le saxophone tard dans la nuit.\",\n",
    "        },\n",
    "        {\n",
    "            \"id\": 14,\n",
    "            \"text\": \"Noah trouva un billet de 5 euros coincé entre deux pavés en marchant dans la rue.\",\n",
    "        },\n",
    "        {\n",
    "            \"id\": 15,\n",
    "            \"text\": \"Emma se rendit compte que son sac d'épicerie avait un trou juste devant l'entrée de son immeuble.\",\n",
    "        },\n",
    "        {\n",
    "            \"id\": 16,\n",
    "            \"text\": \"Lucas tenta de rattraper un train qui, à son arrivée sur le quai, venait de partir.\",\n",
    "        },\n",
    "        {\n",
    "            \"id\": 17,\n",
    "            \"text\": \"Mathilde éclata de rire lorsqu’un enfant lui demanda pourquoi les adultes aimaient tant le café.\",\n",
    "        },\n",
    "        {\n",
    "            \"id\": 18,\n",
    "            \"text\": \"Antoine reçut un appel de sa grand-mère qui voulait savoir comment envoyer un emoji.\",\n",
    "        },\n",
    "        {\n",
    "            \"id\": 19,\n",
    "            \"text\": \"Élise, fascinée par les étoiles, passa sa soirée sur le balcon à regarder le ciel.\",\n",
    "        },\n",
    "        {\n",
    "            \"id\": 20,\n",
    "            \"text\": \"Nathan essaya une nouvelle recette et transforma accidentellement sa cuisine en champ de bataille.\",\n",
    "        },\n",
    "    ]\n",
    "}"
   ]
  },
  {
   "cell_type": "code",
   "execution_count": 3,
   "metadata": {},
   "outputs": [],
   "source": [
    "from GenderPredictor import GenderPredictor"
   ]
  },
  {
   "cell_type": "code",
   "execution_count": 4,
   "metadata": {},
   "outputs": [],
   "source": [
    "predictor = GenderPredictor(data_frame=\"data/name_gender_dataset_cleaned.csv\")"
   ]
  },
  {
   "cell_type": "code",
   "execution_count": 17,
   "metadata": {},
   "outputs": [],
   "source": [
    "from transformers import AutoTokenizer, AutoModelForTokenClassification\n",
    "from transformers import pipeline"
   ]
  },
  {
   "cell_type": "code",
   "execution_count": 18,
   "metadata": {},
   "outputs": [],
   "source": [
    "tokenizer = AutoTokenizer.from_pretrained(\"Babelscape/wikineural-multilingual-ner\")\n",
    "model = AutoModelForTokenClassification.from_pretrained(\n",
    "    \"Babelscape/wikineural-multilingual-ner\"\n",
    ")"
   ]
  },
  {
   "cell_type": "code",
   "execution_count": 19,
   "metadata": {},
   "outputs": [
    {
     "name": "stderr",
     "output_type": "stream",
     "text": [
      "Hardware accelerator e.g. GPU is available in the environment, but no `device` argument is passed to the `Pipeline` object. Model will be on CPU.\n",
      "/opt/anaconda3/envs/nlp/lib/python3.12/site-packages/transformers/pipelines/token_classification.py:170: UserWarning: `grouped_entities` is deprecated and will be removed in version v5.0.0, defaulted to `aggregation_strategy=\"AggregationStrategy.SIMPLE\"` instead.\n",
      "  warnings.warn(\n"
     ]
    }
   ],
   "source": [
    "nlp = pipeline(\"ner\", model=model, tokenizer=tokenizer, grouped_entities=True)"
   ]
  },
  {
   "cell_type": "code",
   "execution_count": null,
   "metadata": {},
   "outputs": [
    {
     "data": {
      "text/plain": [
       "('Aleyna', np.float32(0.98275286))"
      ]
     },
     "execution_count": 53,
     "metadata": {},
     "output_type": "execute_result"
    }
   ],
   "source": [
    "# Function to extract names from text\n",
    "def extract_names(text):\n",
    "    \"\"\" Extract names from text\n",
    "    Args:\n",
    "        text (str): text to extract names from\n",
    "    Returns:\n",
    "        tuple: name extracted and confidence\n",
    "    \"\"\"\n",
    "    sentence = nlp(text)\n",
    "    entities = [entity for entity in sentence if entity[\"entity_group\"] == \"PER\"]\n",
    "    if len(entities) == 0:\n",
    "        return None\n",
    "\n",
    "    name = entities[0][\"word\"].split(\" \")[0]\n",
    "\n",
    "    return (name, entities[0][\"score\"])"
   ]
  },
  {
   "cell_type": "code",
   "execution_count": 54,
   "metadata": {},
   "outputs": [
    {
     "name": "stdout",
     "output_type": "stream",
     "text": [
      "None\n",
      "('Thomas', np.float32(0.98899454))\n",
      "None\n",
      "('Marc', np.float32(0.92688626))\n",
      "('Léa', np.float32(0.60003966))\n",
      "('Paul', np.float32(0.9832175))\n",
      "('Sophie', np.float32(0.7070109))\n",
      "('Malik', np.float32(0.8998651))\n",
      "('Anna', np.float32(0.6892947))\n",
      "('Hugo', np.float32(0.9631502))\n",
      "('Chloé', np.float32(0.95745236))\n",
      "('Vincent', np.float32(0.8386108))\n",
      "('Camille', np.float32(0.9536861))\n",
      "('Noah', np.float32(0.96064526))\n",
      "('Emma', np.float32(0.6287869))\n",
      "('Lucas', np.float32(0.7980288))\n",
      "('Mathilde', np.float32(0.8777193))\n",
      "('Antoine', np.float32(0.9943692))\n",
      "('Élise', np.float32(0.93721294))\n",
      "('Nathan', np.float32(0.53835475))\n"
     ]
    }
   ],
   "source": [
    "for story in stories[\"stories\"]:\n",
    "    print(extract_names(story[\"text\"]))"
   ]
  }
 ],
 "metadata": {
  "kernelspec": {
   "display_name": "nlp",
   "language": "python",
   "name": "python3"
  },
  "language_info": {
   "codemirror_mode": {
    "name": "ipython",
    "version": 3
   },
   "file_extension": ".py",
   "mimetype": "text/x-python",
   "name": "python",
   "nbconvert_exporter": "python",
   "pygments_lexer": "ipython3",
   "version": "3.12.8"
  }
 },
 "nbformat": 4,
 "nbformat_minor": 2
}
